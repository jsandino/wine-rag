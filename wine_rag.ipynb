{
  "nbformat": 4,
  "nbformat_minor": 0,
  "metadata": {
    "colab": {
      "provenance": [],
      "authorship_tag": "ABX9TyPwuHzC/1Z/LTvZKMIGoDnQ",
      "include_colab_link": true
    },
    "kernelspec": {
      "name": "python3",
      "display_name": "Python 3"
    },
    "language_info": {
      "name": "python"
    }
  },
  "cells": [
    {
      "cell_type": "markdown",
      "metadata": {
        "id": "view-in-github",
        "colab_type": "text"
      },
      "source": [
        "<a href=\"https://colab.research.google.com/github/jsandino/wine-rag/blob/main/wine_rag.ipynb\" target=\"_parent\"><img src=\"https://colab.research.google.com/assets/colab-badge.svg\" alt=\"Open In Colab\"/></a>"
      ]
    },
    {
      "cell_type": "markdown",
      "source": [
        "Install dependencies:"
      ],
      "metadata": {
        "id": "dfKG9wPir0Ey"
      }
    },
    {
      "cell_type": "code",
      "source": [
        "!pip install qdrant-client==1.12.1\n",
        "!pip install sentence-transformers==3.3.1\n",
        "!pip install openai==1.11.1"
      ],
      "metadata": {
        "id": "0ZwHr1ZRsl4p"
      },
      "execution_count": null,
      "outputs": []
    },
    {
      "cell_type": "markdown",
      "source": [
        "Import required libararies:"
      ],
      "metadata": {
        "id": "YtUIpS3jsccj"
      }
    },
    {
      "cell_type": "code",
      "source": [
        "import pandas as pd\n",
        "from qdrant_client import models, QdrantClient\n",
        "from sentence_transformers import SentenceTransformer"
      ],
      "metadata": {
        "id": "SZm8VFx3r62O"
      },
      "execution_count": 6,
      "outputs": []
    },
    {
      "cell_type": "code",
      "source": [],
      "metadata": {
        "id": "sxjOx0wnsBL3"
      },
      "execution_count": null,
      "outputs": []
    }
  ]
}