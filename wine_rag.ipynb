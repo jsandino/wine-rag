{
 "cells": [
  {
   "cell_type": "markdown",
   "metadata": {
    "id": "9mWZK7Uj-6PB"
   },
   "source": [
    "# 1. Import libraries\n"
   ]
  },
  {
   "cell_type": "code",
   "execution_count": 1,
   "metadata": {
    "id": "SZm8VFx3r62O"
   },
   "outputs": [],
   "source": [
    "import pandas as pd\n",
    "from qdrant_client import models, QdrantClient\n",
    "from sentence_transformers import SentenceTransformer"
   ]
  },
  {
   "cell_type": "markdown",
   "metadata": {
    "id": "hX5GYpkb_Hlp"
   },
   "source": [
    "# 2. Setup Authoritative Knowledge Base\n",
    "\n",
    "Next, we need to setup the domain-specific (aka Authoritative) knowledge base that will augment the LLM.  This requires the creation of embeddings into a vector database."
   ]
  },
  {
   "cell_type": "markdown",
   "metadata": {
    "id": "nXmaq0xQzXyE"
   },
   "source": [
    "## Load and Inspect the data"
   ]
  },
  {
   "cell_type": "code",
   "execution_count": 2,
   "metadata": {
    "colab": {
     "base_uri": "https://localhost:8080/",
     "height": 206
    },
    "id": "YD6HjPSWyAJB",
    "outputId": "c736c85f-57b9-4bac-c035-b3fd9711c1e2"
   },
   "outputs": [
    {
     "data": {
      "text/html": [
       "<div>\n",
       "<style scoped>\n",
       "    .dataframe tbody tr th:only-of-type {\n",
       "        vertical-align: middle;\n",
       "    }\n",
       "\n",
       "    .dataframe tbody tr th {\n",
       "        vertical-align: top;\n",
       "    }\n",
       "\n",
       "    .dataframe thead th {\n",
       "        text-align: right;\n",
       "    }\n",
       "</style>\n",
       "<table border=\"1\" class=\"dataframe\">\n",
       "  <thead>\n",
       "    <tr style=\"text-align: right;\">\n",
       "      <th></th>\n",
       "      <th>name</th>\n",
       "      <th>region</th>\n",
       "      <th>variety</th>\n",
       "      <th>rating</th>\n",
       "      <th>notes</th>\n",
       "    </tr>\n",
       "  </thead>\n",
       "  <tbody>\n",
       "    <tr>\n",
       "      <th>0</th>\n",
       "      <td>3 Rings Reserve Shiraz 2004</td>\n",
       "      <td>Barossa Valley, Barossa, South Australia, Aust...</td>\n",
       "      <td>Red Wine</td>\n",
       "      <td>96.0</td>\n",
       "      <td>Vintage Comments : Classic Barossa vintage con...</td>\n",
       "    </tr>\n",
       "    <tr>\n",
       "      <th>1</th>\n",
       "      <td>Abreu Vineyards Cappella 2007</td>\n",
       "      <td>Napa Valley, California</td>\n",
       "      <td>Red Wine</td>\n",
       "      <td>96.0</td>\n",
       "      <td>Cappella is a proprietary blend of two clones ...</td>\n",
       "    </tr>\n",
       "    <tr>\n",
       "      <th>2</th>\n",
       "      <td>Abreu Vineyards Cappella 2010</td>\n",
       "      <td>Napa Valley, California</td>\n",
       "      <td>Red Wine</td>\n",
       "      <td>98.0</td>\n",
       "      <td>Cappella is one of the oldest vineyard sites i...</td>\n",
       "    </tr>\n",
       "    <tr>\n",
       "      <th>3</th>\n",
       "      <td>Abreu Vineyards Howell Mountain 2008</td>\n",
       "      <td>Howell Mountain, Napa Valley, California</td>\n",
       "      <td>Red Wine</td>\n",
       "      <td>96.0</td>\n",
       "      <td>When David purchased this Howell Mountain prop...</td>\n",
       "    </tr>\n",
       "    <tr>\n",
       "      <th>4</th>\n",
       "      <td>Abreu Vineyards Howell Mountain 2009</td>\n",
       "      <td>Howell Mountain, Napa Valley, California</td>\n",
       "      <td>Red Wine</td>\n",
       "      <td>98.0</td>\n",
       "      <td>As a set of wines, it is hard to surpass the f...</td>\n",
       "    </tr>\n",
       "  </tbody>\n",
       "</table>\n",
       "</div>"
      ],
      "text/plain": [
       "                                   name  \\\n",
       "0           3 Rings Reserve Shiraz 2004   \n",
       "1         Abreu Vineyards Cappella 2007   \n",
       "2         Abreu Vineyards Cappella 2010   \n",
       "3  Abreu Vineyards Howell Mountain 2008   \n",
       "4  Abreu Vineyards Howell Mountain 2009   \n",
       "\n",
       "                                              region   variety  rating  \\\n",
       "0  Barossa Valley, Barossa, South Australia, Aust...  Red Wine    96.0   \n",
       "1                            Napa Valley, California  Red Wine    96.0   \n",
       "2                            Napa Valley, California  Red Wine    98.0   \n",
       "3           Howell Mountain, Napa Valley, California  Red Wine    96.0   \n",
       "4           Howell Mountain, Napa Valley, California  Red Wine    98.0   \n",
       "\n",
       "                                               notes  \n",
       "0  Vintage Comments : Classic Barossa vintage con...  \n",
       "1  Cappella is a proprietary blend of two clones ...  \n",
       "2  Cappella is one of the oldest vineyard sites i...  \n",
       "3  When David purchased this Howell Mountain prop...  \n",
       "4  As a set of wines, it is hard to surpass the f...  "
      ]
     },
     "execution_count": 2,
     "metadata": {},
     "output_type": "execute_result"
    }
   ],
   "source": [
    "df = pd.read_csv(\"data/top_wines.csv\")\n",
    "df.head()"
   ]
  },
  {
   "cell_type": "code",
   "execution_count": 3,
   "metadata": {
    "colab": {
     "base_uri": "https://localhost:8080/"
    },
    "id": "xIjDZ8Owznvz",
    "outputId": "db9a97d4-9594-49df-aa1c-53765e66cceb"
   },
   "outputs": [
    {
     "name": "stdout",
     "output_type": "stream",
     "text": [
      "<class 'pandas.core.frame.DataFrame'>\n",
      "RangeIndex: 1365 entries, 0 to 1364\n",
      "Data columns (total 5 columns):\n",
      " #   Column   Non-Null Count  Dtype  \n",
      "---  ------   --------------  -----  \n",
      " 0   name     1365 non-null   object \n",
      " 1   region   1364 non-null   object \n",
      " 2   variety  1347 non-null   object \n",
      " 3   rating   1365 non-null   float64\n",
      " 4   notes    1365 non-null   object \n",
      "dtypes: float64(1), object(4)\n",
      "memory usage: 53.4+ KB\n"
     ]
    }
   ],
   "source": [
    "df.info()"
   ]
  },
  {
   "cell_type": "markdown",
   "metadata": {
    "id": "IApGC8ot3_xx"
   },
   "source": [
    "## Clean up Data"
   ]
  },
  {
   "cell_type": "code",
   "execution_count": 4,
   "metadata": {
    "id": "dns-8a2Pz4Zk"
   },
   "outputs": [],
   "source": [
    "# Remove NA entries...\n",
    "df = df[df['region'].notna()]\n",
    "df = df[df['variety'].notna()]"
   ]
  },
  {
   "cell_type": "code",
   "execution_count": 5,
   "metadata": {
    "colab": {
     "base_uri": "https://localhost:8080/"
    },
    "id": "Q3WmppZC05MT",
    "outputId": "08224a12-de3c-4455-ec22-9a4845c039c5"
   },
   "outputs": [
    {
     "name": "stdout",
     "output_type": "stream",
     "text": [
      "<class 'pandas.core.frame.DataFrame'>\n",
      "Index: 1347 entries, 0 to 1364\n",
      "Data columns (total 5 columns):\n",
      " #   Column   Non-Null Count  Dtype  \n",
      "---  ------   --------------  -----  \n",
      " 0   name     1347 non-null   object \n",
      " 1   region   1347 non-null   object \n",
      " 2   variety  1347 non-null   object \n",
      " 3   rating   1347 non-null   float64\n",
      " 4   notes    1347 non-null   object \n",
      "dtypes: float64(1), object(4)\n",
      "memory usage: 63.1+ KB\n"
     ]
    }
   ],
   "source": [
    "df.info()"
   ]
  },
  {
   "cell_type": "markdown",
   "metadata": {
    "id": "83yxR-LE4Iml"
   },
   "source": [
    "## Create Records\n",
    "\n",
    "  Transform each wine row into a data record (ie dictionary):"
   ]
  },
  {
   "cell_type": "code",
   "execution_count": 6,
   "metadata": {
    "colab": {
     "base_uri": "https://localhost:8080/"
    },
    "id": "__lyiTH44bRN",
    "outputId": "20a42e1d-bce5-490b-a892-a68452e462bb"
   },
   "outputs": [
    {
     "name": "stdout",
     "output_type": "stream",
     "text": [
      "name: 3 Rings Reserve Shiraz 2004\n",
      "region: Barossa Valley, Barossa, South Australia, Australia\n",
      "variety: Red Wine\n",
      "rating: 96.0\n",
      "notes: Vintage Comments : Classic Barossa vintage conditions. An average wet Spring followed by extreme heat in early February. Occasional rainfall events kept the vines in good balance up to harvest in late March 2004. Very good quality coupled with good average yields. More than 30 months in wood followed by six months tank maturation of the blend prior to bottling, July 2007. \n"
     ]
    }
   ],
   "source": [
    "data = df.to_dict(\"records\")\n",
    "\n",
    "# Show what the first record looks like...\n",
    "for k, v in data[0].items():\n",
    "  print(f'{k}: {v}')"
   ]
  },
  {
   "cell_type": "markdown",
   "metadata": {
    "id": "JjA7ogcY17fK"
   },
   "source": [
    "## Vectorize Data\n",
    "\n",
    "First, create an encoder to create the embeddings from the wine notes:"
   ]
  },
  {
   "cell_type": "code",
   "execution_count": 7,
   "metadata": {
    "id": "7VXbpXRf06cH"
   },
   "outputs": [],
   "source": [
    "encoder = SentenceTransformer('all-MiniLM-L6-v2') # Model"
   ]
  },
  {
   "cell_type": "markdown",
   "metadata": {
    "id": "G12movdu3Ct_"
   },
   "source": [
    "Next, create an in-memory Qdrant database instance to store vectorized data:"
   ]
  },
  {
   "cell_type": "code",
   "execution_count": 8,
   "metadata": {
    "id": "kyxDvBjd27ik"
   },
   "outputs": [],
   "source": [
    "qdrant = QdrantClient(\":memory:\")"
   ]
  },
  {
   "cell_type": "code",
   "execution_count": 9,
   "metadata": {
    "colab": {
     "base_uri": "https://localhost:8080/"
    },
    "id": "JSCGin983Wr-",
    "outputId": "b458257d-5521-49d5-8258-dfa310da9094"
   },
   "outputs": [
    {
     "data": {
      "text/plain": [
       "True"
      ]
     },
     "execution_count": 9,
     "metadata": {},
     "output_type": "execute_result"
    }
   ],
   "source": [
    "# Create collection to store wines\n",
    "qdrant.create_collection(\n",
    "    collection_name=\"top_wines\",\n",
    "    vectors_config=models.VectorParams(\n",
    "        size=encoder.get_sentence_embedding_dimension(), # Vector size is defined by used model\n",
    "        distance=models.Distance.COSINE\n",
    "    )\n",
    ")"
   ]
  },
  {
   "cell_type": "markdown",
   "metadata": {
    "id": "c4CKyXRb6E5-"
   },
   "source": [
    "Vectorize the wine notes, and associate each vector with its corresponding wine record (ie the payload).  Get a coffee, this may take a while:"
   ]
  },
  {
   "cell_type": "code",
   "execution_count": 10,
   "metadata": {
    "id": "rkh6KLqi3c7D"
   },
   "outputs": [],
   "source": [
    "qdrant.upload_points(\n",
    "    collection_name=\"top_wines\",\n",
    "    points=[\n",
    "        models.PointStruct(\n",
    "            id=idx,\n",
    "            vector=encoder.encode(record[\"notes\"]).tolist(),\n",
    "            payload=record,\n",
    "        ) for idx, record in enumerate(data)\n",
    "    ]\n",
    ")"
   ]
  },
  {
   "cell_type": "markdown",
   "metadata": {
    "id": "vcdLIdZhAI5I"
   },
   "source": [
    "# 3. Demonstrate RAG in action\n",
    "\n"
   ]
  },
  {
   "cell_type": "markdown",
   "metadata": {
    "id": "BEdHEPfWCj6u"
   },
   "source": [
    "We need to run the LLM locally as a web server; by default, the LLM will run at http://127.0.0.1:8080.  Make sure the LLM web server is running - if you haven't already done so, open a terminal and run the following script:\n",
    "\n",
    "```./llm_server.py```"
   ]
  },
  {
   "cell_type": "markdown",
   "metadata": {
    "id": "Ahx81SsZDedq"
   },
   "source": [
    "At this point, we are ready to take user input, use the input to extract relevant text from our authoritative knowledge base, and pass the augmented prompt to the LLM.  Start with the user prompt:"
   ]
  },
  {
   "cell_type": "code",
   "execution_count": 12,
   "metadata": {
    "id": "nadNnuHy6mVo"
   },
   "outputs": [],
   "source": [
    "user_prompt = \"Suggest me an amazing Malbec wine from Argentina\""
   ]
  },
  {
   "cell_type": "markdown",
   "metadata": {
    "id": "gYFz0Bm1BKMZ"
   },
   "source": [
    "Before engaging the LLM, search the vector database using the user's prompt as search criteria:"
   ]
  },
  {
   "cell_type": "code",
   "execution_count": 13,
   "metadata": {
    "colab": {
     "base_uri": "https://localhost:8080/"
    },
    "id": "BM4-qfMwAyxO",
    "outputId": "d583f05e-b88b-451a-8821-5325bb238be8"
   },
   "outputs": [
    {
     "name": "stdout",
     "output_type": "stream",
     "text": [
      "score: 0.6377782412175261 payload: {'name': 'Catena Zapata Argentino Vineyard Malbec 2004', 'region': 'Argentina', 'variety': 'Red Wine', 'rating': 98.0, 'notes': '\"The single-vineyard 2004 Malbec Argentino Vineyard spent 17 months in new French oak. Remarkably fragrant and complex aromatically, it offers up aromas of wood smoke, creosote, pepper, clove, black cherry, and blackberry. Made in a similar, elegant style, it is the most structured of the three single vineyard wines, needing a minimum of a decade of additional cellaring. It should easily prove to be a 25-40 year wine. It is an exceptional achievement in Malbec. When all is said and done, Catena Zapata is the Argentina winery of reference – the standard of excellence for comparing all others. The brilliant, forward-thinking Nicolas Catena remains in charge, with his daughter, Laura, playing an increasingly large role. The Catena Zapata winery is an essential destination for fans of both architecture and wine in Mendoza. It is hard to believe, given the surge in popularity of Malbec in recent years, that Catena Zapata only began exporting Malbec to the United States in 1994.\"'}\n",
      "score: 0.6179681178951746 payload: {'name': 'Bodega Colome Altura Maxima Malbec 2012', 'region': 'Salta, Argentina', 'variety': 'Red Wine', 'rating': 96.0, 'notes': 'Winemaker Thibaut Delmotte has crafted wines of distinction and international acclaim for Colome. He believes the Malbec from Altura Maxima Vineyard is the embodiment of two extremes - a traditional grape variety from his French origins made from the vineyard that challenges all convention in the modern viticultural world.'}\n",
      "score: 0.6117575101142789 payload: {'name': 'Catena Zapata Adrianna Vineyard Malbec 2004', 'region': 'Argentina', 'variety': 'Red Wine', 'rating': 97.0, 'notes': '\"The single-vineyard 2004 Malbec Adrianna Vineyard from the Gualtallary district is inky purple with aromas of wood smoke, pencil lead, game, black cherry, and blackberry liqueur. Opulent, full-flavored, yet remarkably light on its feet, this medium to full-bodied Malbec is all about pleasure. It will certainly evolve for a decade but is hard to resist now. It is a fine test of one\\'s ability to defer immediate gratification. When all is said and done, Catena Zapata is the Argentina winery of reference – the standard of excellence for comparing all others. The brilliant, forward-thinking Nicolas Catena remains in charge, with his daughter, Laura, playing an increasingly large role. The Catena Zapata winery is an essential destination for fans of both architecture and wine in Mendoza. It is hard to believe, given the surge in popularity of Malbec in recent years, that Catena Zapata only began exporting Malbec to the United States in 1994.\"'}\n"
     ]
    }
   ],
   "source": [
    "hits = qdrant.search(\n",
    "    collection_name=\"top_wines\",\n",
    "    query_vector=encoder.encode(user_prompt).tolist(),\n",
    "    limit=3\n",
    ")\n",
    "for hit in hits:\n",
    "  print(\"score:\", hit.score, \"payload:\", hit.payload)"
   ]
  },
  {
   "cell_type": "markdown",
   "metadata": {
    "id": "lqq-KzShB6hf"
   },
   "source": [
    "Extract search results to be passed to the LLM:"
   ]
  },
  {
   "cell_type": "code",
   "execution_count": 14,
   "metadata": {
    "id": "mUx_0Z8EBWu9"
   },
   "outputs": [],
   "source": [
    "search_results = [hit.payload for hit in hits]"
   ]
  },
  {
   "cell_type": "markdown",
   "metadata": {
    "id": "Piz4ktPDD6gh"
   },
   "source": [
    "Finally, we send the augmented prompt to the local LLM using Open AI's api:"
   ]
  },
  {
   "cell_type": "code",
   "execution_count": 16,
   "metadata": {
    "id": "b8WxfeVYENij"
   },
   "outputs": [
    {
     "name": "stdout",
     "output_type": "stream",
     "text": [
      "ChatCompletionMessage(content=\"Sure, I can suggest you an amazing Malbec wine from Argentina, which is the Catena Zapata Adrianna Vineyard Malbec 2004. It is a single-vineyard wine from the Gualtallary district, which is known for producing some of the finest Malbecs in Argentina. The wine is inky purple with aromas of wood smoke, pencil lead, game, black cherry, and blackberry liqueur. It is full-flavored, yet remarkably light on its feet, with a medium to full-bodied structure. It is a fine test of one's ability to defer immediate gratification, and when all is said and done, Catena Zapata is the Argentina winery of reference – the standard of excellence for comparing all others. The brilliant, forward-thinking Nicolas Catena remains in charge, with his daughter, Laura, playing an increasingly large role. The Catena Zapata winery is an essential destination for fans of both architecture and wine in Mendoza. It is hard to believe, given the surge in popularity of Malbec in recent years, that Catena Zapata only began exporting Malbec to the United States in 1994.</s>\", role='assistant', function_call=None, tool_calls=None)\n"
     ]
    }
   ],
   "source": [
    "llm_url = 'http://127.0.0.1:8080/v1'\n",
    "\n",
    "from openai import OpenAI\n",
    "client = OpenAI(\n",
    "    base_url=llm_url,\n",
    "    api_key = \"sk-no-key-required\"\n",
    ")\n",
    "completion = client.chat.completions.create(\n",
    "    model=\"LLaMA_CPP\",\n",
    "    messages=[\n",
    "        {\"role\": \"system\", \"content\": \"You are chatbot, a wine specialist. Your top priority is to help guide users into selecting amazing wine and guide them with their requests.\"},\n",
    "        {\"role\": \"user\", \"content\": user_prompt},\n",
    "        {\"role\": \"assistant\", \"content\": str(search_results)}\n",
    "    ]\n",
    ")\n",
    "print(completion.choices[0].message)"
   ]
  },
  {
   "cell_type": "markdown",
   "metadata": {
    "id": "cgdy70zRFJR_"
   },
   "source": [
    "## Clean Up\n",
    "\n",
    "When you're done, stop the LLM web server previously launched: go back to the terminal and type Ctrl-C."
   ]
  },
  {
   "cell_type": "code",
   "execution_count": null,
   "metadata": {},
   "outputs": [],
   "source": []
  }
 ],
 "metadata": {
  "colab": {
   "authorship_tag": "ABX9TyPwUA+i9cAG80efnZzWb/fV",
   "include_colab_link": true,
   "provenance": []
  },
  "kernelspec": {
   "display_name": "Python 3 (ipykernel)",
   "language": "python",
   "name": "python3"
  },
  "language_info": {
   "codemirror_mode": {
    "name": "ipython",
    "version": 3
   },
   "file_extension": ".py",
   "mimetype": "text/x-python",
   "name": "python",
   "nbconvert_exporter": "python",
   "pygments_lexer": "ipython3",
   "version": "3.11.7"
  }
 },
 "nbformat": 4,
 "nbformat_minor": 4
}
