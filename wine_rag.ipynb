{
  "nbformat": 4,
  "nbformat_minor": 0,
  "metadata": {
    "colab": {
      "provenance": [],
      "authorship_tag": "ABX9TyMueEvkGw5IIr5W9QZZ/2wE",
      "include_colab_link": true
    },
    "kernelspec": {
      "name": "python3",
      "display_name": "Python 3"
    },
    "language_info": {
      "name": "python"
    }
  },
  "cells": [
    {
      "cell_type": "markdown",
      "metadata": {
        "id": "view-in-github",
        "colab_type": "text"
      },
      "source": [
        "<a href=\"https://colab.research.google.com/github/jsandino/wine-rag/blob/main/wine_rag.ipynb\" target=\"_parent\"><img src=\"https://colab.research.google.com/assets/colab-badge.svg\" alt=\"Open In Colab\"/></a>"
      ]
    },
    {
      "cell_type": "markdown",
      "source": [
        "# 1. Setup Environment\n",
        "\n",
        "First, prepare the terrain with required third-party technologies."
      ],
      "metadata": {
        "id": "9mWZK7Uj-6PB"
      }
    },
    {
      "cell_type": "markdown",
      "source": [
        "##Install Dependencies"
      ],
      "metadata": {
        "id": "dfKG9wPir0Ey"
      }
    },
    {
      "cell_type": "code",
      "source": [
        "!pip install qdrant-client==1.12.1\n",
        "!pip install sentence-transformers==3.3.1\n",
        "!pip install openai==1.11.1"
      ],
      "metadata": {
        "id": "0ZwHr1ZRsl4p"
      },
      "execution_count": null,
      "outputs": []
    },
    {
      "cell_type": "markdown",
      "source": [
        "## Import Libraries"
      ],
      "metadata": {
        "id": "YtUIpS3jsccj"
      }
    },
    {
      "cell_type": "code",
      "source": [
        "import pandas as pd\n",
        "from qdrant_client import models, QdrantClient\n",
        "from sentence_transformers import SentenceTransformer"
      ],
      "metadata": {
        "id": "SZm8VFx3r62O"
      },
      "execution_count": 6,
      "outputs": []
    },
    {
      "cell_type": "markdown",
      "source": [
        "## Download the LLM"
      ],
      "metadata": {
        "id": "UCMY2HctwoaR"
      }
    },
    {
      "cell_type": "code",
      "source": [
        "from pathlib import Path\n",
        "import urllib.request\n",
        "\n",
        "def download_llm():\n",
        "  llm_path = Path(\"llm/mxbai-embed-large-v1-f16.llamafile\")\n",
        "  if not llm_path.is_file():\n",
        "    Path(\"llm\").mkdir(parents=True, exist_ok=True)\n",
        "    url = \"https://huggingface.co/Mozilla/mxbai-embed-large-v1-llamafile/resolve/main/mxbai-embed-large-v1-f16.llamafile\"\n",
        "    urllib.request.urlretrieve(url, llm_path)\n",
        "\n",
        "download_llm()"
      ],
      "metadata": {
        "id": "sxjOx0wnsBL3"
      },
      "execution_count": 7,
      "outputs": []
    },
    {
      "cell_type": "markdown",
      "source": [
        "# 2. Setup Authoritative Knowledge Base\n",
        "\n",
        "Next, we need to setup the domain-specific (aka Authoritative) knowledge base that will augment the LLM.  This requires the creation of embeddings into a vector database."
      ],
      "metadata": {
        "id": "hX5GYpkb_Hlp"
      }
    },
    {
      "cell_type": "markdown",
      "source": [
        "## Load and Inspect the data"
      ],
      "metadata": {
        "id": "nXmaq0xQzXyE"
      }
    },
    {
      "cell_type": "code",
      "source": [
        "def load_wines():\n",
        "  wine_path = Path(\"top_wines.csv\")\n",
        "  if not wine_path.is_file():\n",
        "    url = \"https://raw.githubusercontent.com/jsandino/wine-rag/refs/heads/main/data/top_wines.csv\"\n",
        "    urllib.request.urlretrieve(url, wine_path)\n",
        "  return pd.read_csv(Path(\"top_wines.csv\"))\n",
        "\n",
        "df = load_wines()\n",
        "df.head()"
      ],
      "metadata": {
        "colab": {
          "base_uri": "https://localhost:8080/",
          "height": 206
        },
        "id": "YD6HjPSWyAJB",
        "outputId": "5282de1c-a225-4e0e-d465-7a9342b331d6"
      },
      "execution_count": 39,
      "outputs": [
        {
          "output_type": "execute_result",
          "data": {
            "text/plain": [
              "                                   name  \\\n",
              "0           3 Rings Reserve Shiraz 2004   \n",
              "1         Abreu Vineyards Cappella 2007   \n",
              "2         Abreu Vineyards Cappella 2010   \n",
              "3  Abreu Vineyards Howell Mountain 2008   \n",
              "4  Abreu Vineyards Howell Mountain 2009   \n",
              "\n",
              "                                              region   variety  rating  \\\n",
              "0  Barossa Valley, Barossa, South Australia, Aust...  Red Wine    96.0   \n",
              "1                            Napa Valley, California  Red Wine    96.0   \n",
              "2                            Napa Valley, California  Red Wine    98.0   \n",
              "3           Howell Mountain, Napa Valley, California  Red Wine    96.0   \n",
              "4           Howell Mountain, Napa Valley, California  Red Wine    98.0   \n",
              "\n",
              "                                               notes  \n",
              "0  Vintage Comments : Classic Barossa vintage con...  \n",
              "1  Cappella is a proprietary blend of two clones ...  \n",
              "2  Cappella is one of the oldest vineyard sites i...  \n",
              "3  When David purchased this Howell Mountain prop...  \n",
              "4  As a set of wines, it is hard to surpass the f...  "
            ],
            "text/html": [
              "\n",
              "  <div id=\"df-8a41f472-ab51-4568-aa11-9511c40f4545\" class=\"colab-df-container\">\n",
              "    <div>\n",
              "<style scoped>\n",
              "    .dataframe tbody tr th:only-of-type {\n",
              "        vertical-align: middle;\n",
              "    }\n",
              "\n",
              "    .dataframe tbody tr th {\n",
              "        vertical-align: top;\n",
              "    }\n",
              "\n",
              "    .dataframe thead th {\n",
              "        text-align: right;\n",
              "    }\n",
              "</style>\n",
              "<table border=\"1\" class=\"dataframe\">\n",
              "  <thead>\n",
              "    <tr style=\"text-align: right;\">\n",
              "      <th></th>\n",
              "      <th>name</th>\n",
              "      <th>region</th>\n",
              "      <th>variety</th>\n",
              "      <th>rating</th>\n",
              "      <th>notes</th>\n",
              "    </tr>\n",
              "  </thead>\n",
              "  <tbody>\n",
              "    <tr>\n",
              "      <th>0</th>\n",
              "      <td>3 Rings Reserve Shiraz 2004</td>\n",
              "      <td>Barossa Valley, Barossa, South Australia, Aust...</td>\n",
              "      <td>Red Wine</td>\n",
              "      <td>96.0</td>\n",
              "      <td>Vintage Comments : Classic Barossa vintage con...</td>\n",
              "    </tr>\n",
              "    <tr>\n",
              "      <th>1</th>\n",
              "      <td>Abreu Vineyards Cappella 2007</td>\n",
              "      <td>Napa Valley, California</td>\n",
              "      <td>Red Wine</td>\n",
              "      <td>96.0</td>\n",
              "      <td>Cappella is a proprietary blend of two clones ...</td>\n",
              "    </tr>\n",
              "    <tr>\n",
              "      <th>2</th>\n",
              "      <td>Abreu Vineyards Cappella 2010</td>\n",
              "      <td>Napa Valley, California</td>\n",
              "      <td>Red Wine</td>\n",
              "      <td>98.0</td>\n",
              "      <td>Cappella is one of the oldest vineyard sites i...</td>\n",
              "    </tr>\n",
              "    <tr>\n",
              "      <th>3</th>\n",
              "      <td>Abreu Vineyards Howell Mountain 2008</td>\n",
              "      <td>Howell Mountain, Napa Valley, California</td>\n",
              "      <td>Red Wine</td>\n",
              "      <td>96.0</td>\n",
              "      <td>When David purchased this Howell Mountain prop...</td>\n",
              "    </tr>\n",
              "    <tr>\n",
              "      <th>4</th>\n",
              "      <td>Abreu Vineyards Howell Mountain 2009</td>\n",
              "      <td>Howell Mountain, Napa Valley, California</td>\n",
              "      <td>Red Wine</td>\n",
              "      <td>98.0</td>\n",
              "      <td>As a set of wines, it is hard to surpass the f...</td>\n",
              "    </tr>\n",
              "  </tbody>\n",
              "</table>\n",
              "</div>\n",
              "    <div class=\"colab-df-buttons\">\n",
              "\n",
              "  <div class=\"colab-df-container\">\n",
              "    <button class=\"colab-df-convert\" onclick=\"convertToInteractive('df-8a41f472-ab51-4568-aa11-9511c40f4545')\"\n",
              "            title=\"Convert this dataframe to an interactive table.\"\n",
              "            style=\"display:none;\">\n",
              "\n",
              "  <svg xmlns=\"http://www.w3.org/2000/svg\" height=\"24px\" viewBox=\"0 -960 960 960\">\n",
              "    <path d=\"M120-120v-720h720v720H120Zm60-500h600v-160H180v160Zm220 220h160v-160H400v160Zm0 220h160v-160H400v160ZM180-400h160v-160H180v160Zm440 0h160v-160H620v160ZM180-180h160v-160H180v160Zm440 0h160v-160H620v160Z\"/>\n",
              "  </svg>\n",
              "    </button>\n",
              "\n",
              "  <style>\n",
              "    .colab-df-container {\n",
              "      display:flex;\n",
              "      gap: 12px;\n",
              "    }\n",
              "\n",
              "    .colab-df-convert {\n",
              "      background-color: #E8F0FE;\n",
              "      border: none;\n",
              "      border-radius: 50%;\n",
              "      cursor: pointer;\n",
              "      display: none;\n",
              "      fill: #1967D2;\n",
              "      height: 32px;\n",
              "      padding: 0 0 0 0;\n",
              "      width: 32px;\n",
              "    }\n",
              "\n",
              "    .colab-df-convert:hover {\n",
              "      background-color: #E2EBFA;\n",
              "      box-shadow: 0px 1px 2px rgba(60, 64, 67, 0.3), 0px 1px 3px 1px rgba(60, 64, 67, 0.15);\n",
              "      fill: #174EA6;\n",
              "    }\n",
              "\n",
              "    .colab-df-buttons div {\n",
              "      margin-bottom: 4px;\n",
              "    }\n",
              "\n",
              "    [theme=dark] .colab-df-convert {\n",
              "      background-color: #3B4455;\n",
              "      fill: #D2E3FC;\n",
              "    }\n",
              "\n",
              "    [theme=dark] .colab-df-convert:hover {\n",
              "      background-color: #434B5C;\n",
              "      box-shadow: 0px 1px 3px 1px rgba(0, 0, 0, 0.15);\n",
              "      filter: drop-shadow(0px 1px 2px rgba(0, 0, 0, 0.3));\n",
              "      fill: #FFFFFF;\n",
              "    }\n",
              "  </style>\n",
              "\n",
              "    <script>\n",
              "      const buttonEl =\n",
              "        document.querySelector('#df-8a41f472-ab51-4568-aa11-9511c40f4545 button.colab-df-convert');\n",
              "      buttonEl.style.display =\n",
              "        google.colab.kernel.accessAllowed ? 'block' : 'none';\n",
              "\n",
              "      async function convertToInteractive(key) {\n",
              "        const element = document.querySelector('#df-8a41f472-ab51-4568-aa11-9511c40f4545');\n",
              "        const dataTable =\n",
              "          await google.colab.kernel.invokeFunction('convertToInteractive',\n",
              "                                                    [key], {});\n",
              "        if (!dataTable) return;\n",
              "\n",
              "        const docLinkHtml = 'Like what you see? Visit the ' +\n",
              "          '<a target=\"_blank\" href=https://colab.research.google.com/notebooks/data_table.ipynb>data table notebook</a>'\n",
              "          + ' to learn more about interactive tables.';\n",
              "        element.innerHTML = '';\n",
              "        dataTable['output_type'] = 'display_data';\n",
              "        await google.colab.output.renderOutput(dataTable, element);\n",
              "        const docLink = document.createElement('div');\n",
              "        docLink.innerHTML = docLinkHtml;\n",
              "        element.appendChild(docLink);\n",
              "      }\n",
              "    </script>\n",
              "  </div>\n",
              "\n",
              "\n",
              "<div id=\"df-448edcb4-b36c-416e-9321-78d04073dfe6\">\n",
              "  <button class=\"colab-df-quickchart\" onclick=\"quickchart('df-448edcb4-b36c-416e-9321-78d04073dfe6')\"\n",
              "            title=\"Suggest charts\"\n",
              "            style=\"display:none;\">\n",
              "\n",
              "<svg xmlns=\"http://www.w3.org/2000/svg\" height=\"24px\"viewBox=\"0 0 24 24\"\n",
              "     width=\"24px\">\n",
              "    <g>\n",
              "        <path d=\"M19 3H5c-1.1 0-2 .9-2 2v14c0 1.1.9 2 2 2h14c1.1 0 2-.9 2-2V5c0-1.1-.9-2-2-2zM9 17H7v-7h2v7zm4 0h-2V7h2v10zm4 0h-2v-4h2v4z\"/>\n",
              "    </g>\n",
              "</svg>\n",
              "  </button>\n",
              "\n",
              "<style>\n",
              "  .colab-df-quickchart {\n",
              "      --bg-color: #E8F0FE;\n",
              "      --fill-color: #1967D2;\n",
              "      --hover-bg-color: #E2EBFA;\n",
              "      --hover-fill-color: #174EA6;\n",
              "      --disabled-fill-color: #AAA;\n",
              "      --disabled-bg-color: #DDD;\n",
              "  }\n",
              "\n",
              "  [theme=dark] .colab-df-quickchart {\n",
              "      --bg-color: #3B4455;\n",
              "      --fill-color: #D2E3FC;\n",
              "      --hover-bg-color: #434B5C;\n",
              "      --hover-fill-color: #FFFFFF;\n",
              "      --disabled-bg-color: #3B4455;\n",
              "      --disabled-fill-color: #666;\n",
              "  }\n",
              "\n",
              "  .colab-df-quickchart {\n",
              "    background-color: var(--bg-color);\n",
              "    border: none;\n",
              "    border-radius: 50%;\n",
              "    cursor: pointer;\n",
              "    display: none;\n",
              "    fill: var(--fill-color);\n",
              "    height: 32px;\n",
              "    padding: 0;\n",
              "    width: 32px;\n",
              "  }\n",
              "\n",
              "  .colab-df-quickchart:hover {\n",
              "    background-color: var(--hover-bg-color);\n",
              "    box-shadow: 0 1px 2px rgba(60, 64, 67, 0.3), 0 1px 3px 1px rgba(60, 64, 67, 0.15);\n",
              "    fill: var(--button-hover-fill-color);\n",
              "  }\n",
              "\n",
              "  .colab-df-quickchart-complete:disabled,\n",
              "  .colab-df-quickchart-complete:disabled:hover {\n",
              "    background-color: var(--disabled-bg-color);\n",
              "    fill: var(--disabled-fill-color);\n",
              "    box-shadow: none;\n",
              "  }\n",
              "\n",
              "  .colab-df-spinner {\n",
              "    border: 2px solid var(--fill-color);\n",
              "    border-color: transparent;\n",
              "    border-bottom-color: var(--fill-color);\n",
              "    animation:\n",
              "      spin 1s steps(1) infinite;\n",
              "  }\n",
              "\n",
              "  @keyframes spin {\n",
              "    0% {\n",
              "      border-color: transparent;\n",
              "      border-bottom-color: var(--fill-color);\n",
              "      border-left-color: var(--fill-color);\n",
              "    }\n",
              "    20% {\n",
              "      border-color: transparent;\n",
              "      border-left-color: var(--fill-color);\n",
              "      border-top-color: var(--fill-color);\n",
              "    }\n",
              "    30% {\n",
              "      border-color: transparent;\n",
              "      border-left-color: var(--fill-color);\n",
              "      border-top-color: var(--fill-color);\n",
              "      border-right-color: var(--fill-color);\n",
              "    }\n",
              "    40% {\n",
              "      border-color: transparent;\n",
              "      border-right-color: var(--fill-color);\n",
              "      border-top-color: var(--fill-color);\n",
              "    }\n",
              "    60% {\n",
              "      border-color: transparent;\n",
              "      border-right-color: var(--fill-color);\n",
              "    }\n",
              "    80% {\n",
              "      border-color: transparent;\n",
              "      border-right-color: var(--fill-color);\n",
              "      border-bottom-color: var(--fill-color);\n",
              "    }\n",
              "    90% {\n",
              "      border-color: transparent;\n",
              "      border-bottom-color: var(--fill-color);\n",
              "    }\n",
              "  }\n",
              "</style>\n",
              "\n",
              "  <script>\n",
              "    async function quickchart(key) {\n",
              "      const quickchartButtonEl =\n",
              "        document.querySelector('#' + key + ' button');\n",
              "      quickchartButtonEl.disabled = true;  // To prevent multiple clicks.\n",
              "      quickchartButtonEl.classList.add('colab-df-spinner');\n",
              "      try {\n",
              "        const charts = await google.colab.kernel.invokeFunction(\n",
              "            'suggestCharts', [key], {});\n",
              "      } catch (error) {\n",
              "        console.error('Error during call to suggestCharts:', error);\n",
              "      }\n",
              "      quickchartButtonEl.classList.remove('colab-df-spinner');\n",
              "      quickchartButtonEl.classList.add('colab-df-quickchart-complete');\n",
              "    }\n",
              "    (() => {\n",
              "      let quickchartButtonEl =\n",
              "        document.querySelector('#df-448edcb4-b36c-416e-9321-78d04073dfe6 button');\n",
              "      quickchartButtonEl.style.display =\n",
              "        google.colab.kernel.accessAllowed ? 'block' : 'none';\n",
              "    })();\n",
              "  </script>\n",
              "</div>\n",
              "\n",
              "    </div>\n",
              "  </div>\n"
            ],
            "application/vnd.google.colaboratory.intrinsic+json": {
              "type": "dataframe",
              "variable_name": "df",
              "summary": "{\n  \"name\": \"df\",\n  \"rows\": 1365,\n  \"fields\": [\n    {\n      \"column\": \"name\",\n      \"properties\": {\n        \"dtype\": \"string\",\n        \"num_unique_values\": 1361,\n        \"samples\": [\n          \"Anakota Helena Dakota Vineyard Cabernet Sauvignon 2017\",\n          \"Guigal La Mouline Cote Rotie 2010\",\n          \"Lail J. Daniel Cuvee Cabernet Sauvignon 2013\"\n        ],\n        \"semantic_type\": \"\",\n        \"description\": \"\"\n      }\n    },\n    {\n      \"column\": \"region\",\n      \"properties\": {\n        \"dtype\": \"category\",\n        \"num_unique_values\": 127,\n        \"samples\": [\n          \"Rioja, Spain\",\n          \"Cote de Beaune, Cote d'Or, Burgundy, France\",\n          \"Diamond Mountain District, Napa Valley, California\"\n        ],\n        \"semantic_type\": \"\",\n        \"description\": \"\"\n      }\n    },\n    {\n      \"column\": \"variety\",\n      \"properties\": {\n        \"dtype\": \"category\",\n        \"num_unique_values\": 5,\n        \"samples\": [\n          \"White Wine\",\n          \"Sparkling & Champagne\",\n          \"Collectible\"\n        ],\n        \"semantic_type\": \"\",\n        \"description\": \"\"\n      }\n    },\n    {\n      \"column\": \"rating\",\n      \"properties\": {\n        \"dtype\": \"number\",\n        \"std\": 0.9959571526903935,\n        \"min\": 96.0,\n        \"max\": 99.0,\n        \"num_unique_values\": 4,\n        \"samples\": [\n          98.0,\n          97.0,\n          96.0\n        ],\n        \"semantic_type\": \"\",\n        \"description\": \"\"\n      }\n    },\n    {\n      \"column\": \"notes\",\n      \"properties\": {\n        \"dtype\": \"string\",\n        \"num_unique_values\": 1109,\n        \"samples\": [\n          \"Ruby red with bright red highlights. On the nose, small red fruits, blackberry and floral aromas of violets, powerful but fine aromatic intensity. The wine has a soft mouthfeel and beautiful harmony between the fine flavors and explosive richness due to the concentration. A voluptuous feminine wine with a velvety or silky texture and intense aromatics.\",\n          \"The wine of Doisy-Da\\u00ebne has a particular style, privileging the brilliance of the fruit concentrated by the \\\"noble rot\\\", nervousness, balance and delicacy of flavors. This style is both the expression a great limestone terroir and a family aesthetic tradition, that of racy white wines, a Diamond purity, combining power and freshness, in an endless youth.\",\n          \"Andremily is excited to share with all of you the 2013 Andremily No.2. The No.2, which similar to the first release, is comprised predominantly of Syrah from the Famed White Hawk Vineyard in Cat Canyon, and Larner Vineyard in Ballard Canyon. The Syrah was 4% co-fermented with Viognier, and includes 35% whole cluster. We included 11% Mourvedre in the final blend, which was bottled after 23 months in French barrique, of which 62% where new.\"\n        ],\n        \"semantic_type\": \"\",\n        \"description\": \"\"\n      }\n    }\n  ]\n}"
            }
          },
          "metadata": {},
          "execution_count": 39
        }
      ]
    },
    {
      "cell_type": "code",
      "source": [
        "df.info()"
      ],
      "metadata": {
        "colab": {
          "base_uri": "https://localhost:8080/"
        },
        "id": "xIjDZ8Owznvz",
        "outputId": "d8c55956-e50d-486b-9722-ca1b6b00c387"
      },
      "execution_count": 36,
      "outputs": [
        {
          "output_type": "stream",
          "name": "stdout",
          "text": [
            "<class 'pandas.core.frame.DataFrame'>\n",
            "Index: 1347 entries, 0 to 1364\n",
            "Data columns (total 5 columns):\n",
            " #   Column   Non-Null Count  Dtype  \n",
            "---  ------   --------------  -----  \n",
            " 0   name     1347 non-null   object \n",
            " 1   region   1347 non-null   object \n",
            " 2   variety  1347 non-null   object \n",
            " 3   rating   1347 non-null   float64\n",
            " 4   notes    1347 non-null   object \n",
            "dtypes: float64(1), object(4)\n",
            "memory usage: 63.1+ KB\n"
          ]
        }
      ]
    },
    {
      "cell_type": "markdown",
      "source": [
        "## Clean up Data"
      ],
      "metadata": {
        "id": "IApGC8ot3_xx"
      }
    },
    {
      "cell_type": "code",
      "source": [
        "# Remove NA entries...\n",
        "df = df[df['region'].notna()]\n",
        "df = df[df['variety'].notna()]"
      ],
      "metadata": {
        "id": "dns-8a2Pz4Zk"
      },
      "execution_count": 23,
      "outputs": []
    },
    {
      "cell_type": "code",
      "source": [
        "df.info()"
      ],
      "metadata": {
        "colab": {
          "base_uri": "https://localhost:8080/"
        },
        "id": "Q3WmppZC05MT",
        "outputId": "d1aea7e0-b20c-49d5-8eaa-8a7d37908bf8"
      },
      "execution_count": 18,
      "outputs": [
        {
          "output_type": "stream",
          "name": "stdout",
          "text": [
            "<class 'pandas.core.frame.DataFrame'>\n",
            "Index: 1347 entries, 0 to 1364\n",
            "Data columns (total 5 columns):\n",
            " #   Column   Non-Null Count  Dtype  \n",
            "---  ------   --------------  -----  \n",
            " 0   name     1347 non-null   object \n",
            " 1   region   1347 non-null   object \n",
            " 2   variety  1347 non-null   object \n",
            " 3   rating   1347 non-null   float64\n",
            " 4   notes    1347 non-null   object \n",
            "dtypes: float64(1), object(4)\n",
            "memory usage: 63.1+ KB\n"
          ]
        }
      ]
    },
    {
      "cell_type": "markdown",
      "source": [
        "## Create Records\n",
        "\n",
        "  Transform each wine row into a data record (ie dictionary):"
      ],
      "metadata": {
        "id": "83yxR-LE4Iml"
      }
    },
    {
      "cell_type": "code",
      "source": [
        "data = df.to_dict(\"records\")\n",
        "\n",
        "# Show what the first record looks like...\n",
        "for k, v in data[0].items():\n",
        "  print(f'{k}: {v}')"
      ],
      "metadata": {
        "colab": {
          "base_uri": "https://localhost:8080/"
        },
        "id": "__lyiTH44bRN",
        "outputId": "119f69c2-917a-4a54-f7b6-3e7559443c00"
      },
      "execution_count": 29,
      "outputs": [
        {
          "output_type": "stream",
          "name": "stdout",
          "text": [
            "name: 3 Rings Reserve Shiraz 2004\n",
            "region: Barossa Valley, Barossa, South Australia, Australia\n",
            "variety: Red Wine\n",
            "rating: 96.0\n",
            "notes: Vintage Comments : Classic Barossa vintage conditions. An average wet Spring followed by extreme heat in early February. Occasional rainfall events kept the vines in good balance up to harvest in late March 2004. Very good quality coupled with good average yields. More than 30 months in wood followed by six months tank maturation of the blend prior to bottling, July 2007. \n"
          ]
        }
      ]
    },
    {
      "cell_type": "markdown",
      "source": [
        "## Vectorize Data\n",
        "\n",
        "First, create an encoder to create the embeddings from the wine notes:"
      ],
      "metadata": {
        "id": "JjA7ogcY17fK"
      }
    },
    {
      "cell_type": "code",
      "source": [
        "encoder = SentenceTransformer('all-MiniLM-L6-v2') # Model"
      ],
      "metadata": {
        "id": "7VXbpXRf06cH"
      },
      "execution_count": 22,
      "outputs": []
    },
    {
      "cell_type": "markdown",
      "source": [
        "Next, create an in-memory Qdrant database instance to store vectorized data:"
      ],
      "metadata": {
        "id": "G12movdu3Ct_"
      }
    },
    {
      "cell_type": "code",
      "source": [
        "qdrant = QdrantClient(\":memory:\")"
      ],
      "metadata": {
        "id": "kyxDvBjd27ik"
      },
      "execution_count": 20,
      "outputs": []
    },
    {
      "cell_type": "code",
      "source": [
        "# Create collection to store wines\n",
        "qdrant.recreate_collection(\n",
        "    collection_name=\"top_wines\",\n",
        "    vectors_config=models.VectorParams(\n",
        "        size=encoder.get_sentence_embedding_dimension(), # Vector size is defined by used model\n",
        "        distance=models.Distance.COSINE\n",
        "    )\n",
        ")"
      ],
      "metadata": {
        "id": "JSCGin983Wr-"
      },
      "execution_count": null,
      "outputs": []
    },
    {
      "cell_type": "markdown",
      "source": [
        "Vectorize the wine notes, and associate each vector with its corresponding wine record (ie the payload):"
      ],
      "metadata": {
        "id": "c4CKyXRb6E5-"
      }
    },
    {
      "cell_type": "code",
      "source": [
        "qdrant.upload_points(\n",
        "    collection_name=\"top_wines\",\n",
        "    points=[\n",
        "        models.PointStruct(\n",
        "            id=idx,\n",
        "            vector=encoder.encode(record[\"notes\"]).tolist(),\n",
        "            payload=record,\n",
        "        ) for idx, record in enumerate(data)\n",
        "    ]\n",
        ")"
      ],
      "metadata": {
        "id": "rkh6KLqi3c7D"
      },
      "execution_count": 30,
      "outputs": []
    },
    {
      "cell_type": "markdown",
      "source": [
        "# 3. Demonstrate RAG in action\n",
        "\n"
      ],
      "metadata": {
        "id": "vcdLIdZhAI5I"
      }
    },
    {
      "cell_type": "markdown",
      "source": [
        "We need to run the LLM locally as a server running at http://127.0.0.1:8081:"
      ],
      "metadata": {
        "id": "BEdHEPfWCj6u"
      }
    },
    {
      "cell_type": "code",
      "source": [
        "# This gives access to a browser tab, to test the LLM via web interface\n",
        "\n",
        "# from google.colab.output import eval_js\n",
        "# print(eval_js(\"google.colab.kernel.proxyPort(8081)\"))"
      ],
      "metadata": {
        "colab": {
          "base_uri": "https://localhost:8080/",
          "height": 35
        },
        "id": "Nc6WWzI-F9Tr",
        "outputId": "bc846a1e-4b92-49b5-b20d-0afbf2abbfed"
      },
      "execution_count": 56,
      "outputs": [
        {
          "output_type": "stream",
          "name": "stdout",
          "text": [
            "https://3r473mxaocy-496ff2e9c6d22116-8081-colab.googleusercontent.com/\n"
          ]
        }
      ]
    },
    {
      "cell_type": "code",
      "source": [
        "# This cell is not currently working: the LLM is launched successfully, but it blocks execution of any other cells...\n",
        "\n",
        "!chmod +x llm/mxbai-embed-large-v1-f16.llamafile\n",
        "!llm/mxbai-embed-large-v1-f16.llamafile &"
      ],
      "metadata": {
        "id": "N3Dh6WEGCouN"
      },
      "execution_count": null,
      "outputs": []
    },
    {
      "cell_type": "markdown",
      "source": [
        "At this point, we are ready to take user input, use the input to extract relevant text from our authoritative knowledge base, and pass the augmented prompt to the LLM.  Start with the user prompt:"
      ],
      "metadata": {
        "id": "Ahx81SsZDedq"
      }
    },
    {
      "cell_type": "code",
      "source": [
        "user_prompt = \"Suggest me an amazing Malbec wine from Argentina\""
      ],
      "metadata": {
        "id": "nadNnuHy6mVo"
      },
      "execution_count": 40,
      "outputs": []
    },
    {
      "cell_type": "markdown",
      "source": [
        "Before engaging the LLM, search the vector database using the user's prompt as search criteria:"
      ],
      "metadata": {
        "id": "gYFz0Bm1BKMZ"
      }
    },
    {
      "cell_type": "code",
      "source": [
        "hits = qdrant.search(\n",
        "    collection_name=\"top_wines\",\n",
        "    query_vector=encoder.encode(user_prompt).tolist(),\n",
        "    limit=3\n",
        ")\n",
        "for hit in hits:\n",
        "  print(\"score:\", hit.score, \"payload:\", hit.payload)"
      ],
      "metadata": {
        "colab": {
          "base_uri": "https://localhost:8080/"
        },
        "id": "BM4-qfMwAyxO",
        "outputId": "c7a496eb-1450-426a-8dbf-a2ac4d139c04"
      },
      "execution_count": 44,
      "outputs": [
        {
          "output_type": "stream",
          "name": "stdout",
          "text": [
            "score: 0.6377782347562875 payload: {'name': 'Catena Zapata Argentino Vineyard Malbec 2004', 'region': 'Argentina', 'variety': 'Red Wine', 'rating': 98.0, 'notes': '\"The single-vineyard 2004 Malbec Argentino Vineyard spent 17 months in new French oak. Remarkably fragrant and complex aromatically, it offers up aromas of wood smoke, creosote, pepper, clove, black cherry, and blackberry. Made in a similar, elegant style, it is the most structured of the three single vineyard wines, needing a minimum of a decade of additional cellaring. It should easily prove to be a 25-40 year wine. It is an exceptional achievement in Malbec. When all is said and done, Catena Zapata is the Argentina winery of reference – the standard of excellence for comparing all others. The brilliant, forward-thinking Nicolas Catena remains in charge, with his daughter, Laura, playing an increasingly large role. The Catena Zapata winery is an essential destination for fans of both architecture and wine in Mendoza. It is hard to believe, given the surge in popularity of Malbec in recent years, that Catena Zapata only began exporting Malbec to the United States in 1994.\"'}\n",
            "score: 0.6179681733698252 payload: {'name': 'Bodega Colome Altura Maxima Malbec 2012', 'region': 'Salta, Argentina', 'variety': 'Red Wine', 'rating': 96.0, 'notes': 'Winemaker Thibaut Delmotte has crafted wines of distinction and international acclaim for Colome. He believes the Malbec from Altura Maxima Vineyard is the embodiment of two extremes - a traditional grape variety from his French origins made from the vineyard that challenges all convention in the modern viticultural world.'}\n",
            "score: 0.6117573915435027 payload: {'name': 'Catena Zapata Adrianna Vineyard Malbec 2004', 'region': 'Argentina', 'variety': 'Red Wine', 'rating': 97.0, 'notes': '\"The single-vineyard 2004 Malbec Adrianna Vineyard from the Gualtallary district is inky purple with aromas of wood smoke, pencil lead, game, black cherry, and blackberry liqueur. Opulent, full-flavored, yet remarkably light on its feet, this medium to full-bodied Malbec is all about pleasure. It will certainly evolve for a decade but is hard to resist now. It is a fine test of one\\'s ability to defer immediate gratification. When all is said and done, Catena Zapata is the Argentina winery of reference – the standard of excellence for comparing all others. The brilliant, forward-thinking Nicolas Catena remains in charge, with his daughter, Laura, playing an increasingly large role. The Catena Zapata winery is an essential destination for fans of both architecture and wine in Mendoza. It is hard to believe, given the surge in popularity of Malbec in recent years, that Catena Zapata only began exporting Malbec to the United States in 1994.\"'}\n"
          ]
        }
      ]
    },
    {
      "cell_type": "markdown",
      "source": [
        "Extract search results to be passed to the LLM:"
      ],
      "metadata": {
        "id": "lqq-KzShB6hf"
      }
    },
    {
      "cell_type": "code",
      "source": [
        "search_results = [hit.payload for hit in hits]"
      ],
      "metadata": {
        "id": "mUx_0Z8EBWu9"
      },
      "execution_count": 53,
      "outputs": []
    },
    {
      "cell_type": "markdown",
      "source": [
        "Finally, we send the augmented prompt to the local LLM using Open AI's api:"
      ],
      "metadata": {
        "id": "Piz4ktPDD6gh"
      }
    },
    {
      "cell_type": "code",
      "source": [
        "from openai import OpenAI\n",
        "client = OpenAI(\n",
        "    base_url=\"http://127.0.0.1:8081\",\n",
        "    api_key = \"sk-no-key-required\"\n",
        ")\n",
        "completion = client.chat.completions.create(\n",
        "    model=\"LLaMA_CPP\",\n",
        "    messages=[\n",
        "        {\"role\": \"system\", \"content\": \"You are chatbot, a wine specialist. Your top priority is to help guide users into selecting amazing wine and guide them with their requests.\"},\n",
        "        {\"role\": \"user\", \"content\": user_prompt},\n",
        "        {\"role\": \"assistant\", \"content\": str(search_results)}\n",
        "    ]\n",
        ")\n",
        "print(completion.choices[0].message)"
      ],
      "metadata": {
        "id": "b8WxfeVYENij"
      },
      "execution_count": null,
      "outputs": []
    },
    {
      "cell_type": "code",
      "source": [],
      "metadata": {
        "id": "cgdy70zRFJR_"
      },
      "execution_count": null,
      "outputs": []
    }
  ]
}